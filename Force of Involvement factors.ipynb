{
 "cells": [
  {
   "cell_type": "code",
   "execution_count": 1,
   "metadata": {},
   "outputs": [],
   "source": [
    "# This notebook was created by the article of E.Babushkin\n",
    "# https://edwvb.blogspot.com/2019/10/avtomatizaciya-analiza-korporativnogo-oprosa-vovlechennosti-i-ne-tolko-s-pomoshchyu-r.html\n",
    "# (c) Babushkin (data set)\n",
    "# (c) Honcharov (Python code)"
   ]
  },
  {
   "cell_type": "code",
   "execution_count": 1,
   "metadata": {},
   "outputs": [],
   "source": [
    "import pandas as pd\n",
    "\n",
    "import scipy\n",
    "import scipy.stats as ss\n",
    "\n",
    "import numpy as np\n"
   ]
  },
  {
   "cell_type": "code",
   "execution_count": 2,
   "metadata": {},
   "outputs": [],
   "source": [
    "# Read data from csv file to df and make df as Pandas.DataFrame\n",
    "df = pd.read_csv('survey_results.csv', encoding='cp1251', header=0, na_values='')\n"
   ]
  },
  {
   "cell_type": "code",
   "execution_count": 3,
   "metadata": {},
   "outputs": [],
   "source": [
    "# Make list from column's names\n",
    "cols = df.columns.tolist()\n",
    "\n",
    "# Make list tablesList of crosstabs for all columns (factors) to last column (target)\n",
    "tablesList = []\n",
    "tablesDict = {}\n",
    "for col in cols[:-1]:\n",
    "    table = pd.crosstab(df[col],df['Готов рекомендовать'])\n",
    "    tablesList.append(table)\n",
    "    tablesDict[col] = table\n"
   ]
  },
  {
   "cell_type": "code",
   "execution_count": 4,
   "metadata": {
    "scrolled": true
   },
   "outputs": [
    {
     "name": "stdout",
     "output_type": "stream",
     "text": [
      "{'Профессиональные качества': array([[ 0.94797688,  0.38728324,  0.66473988],\n",
      "       [68.7283237 , 28.07803468, 48.19364162],\n",
      "       [31.75722543, 12.97398844, 22.26878613],\n",
      "       [31.75722543, 12.97398844, 22.26878613],\n",
      "       [30.80924855, 12.5867052 , 21.60404624]]), 'Советуется с Вами': array([[95.2716763 , 38.92196532, 66.80635838],\n",
      "       [51.66473988, 21.10693642, 36.2283237 ],\n",
      "       [17.06358382,  6.97109827, 11.96531792]]), 'Наличие четких целей, KPI': array([[52.61271676, 21.49421965, 36.89306358],\n",
      "       [41.71098266, 17.04046243, 29.24855491],\n",
      "       [69.67630058, 28.46531792, 48.8583815 ]]), 'Делегирует полномочия': array([[17.95362319,  7.37971014, 12.66666667],\n",
      "       [66.6173913 , 27.3826087 , 47.        ],\n",
      "       [78.42898551, 32.23768116, 55.33333333]]), 'Дает обратную связь': array([[88.35072464, 36.31594203, 62.33333333],\n",
      "       [74.64927536, 30.68405797, 52.66666667]]), 'Критикует в присутствии других': array([[51.81449275, 21.16811594, 36.0173913 ],\n",
      "       [79.86086957, 32.62608696, 55.51304348],\n",
      "       [32.32463768, 13.2057971 , 22.46956522]]), 'Благодарит за достижения': array([[43.73333333, 17.6       , 30.66666667],\n",
      "       [74.15652174, 29.84347826, 52.        ],\n",
      "       [46.11014493, 18.55652174, 32.33333333]]), 'Знает о карьерных планах': array([[ 57.51884058,  23.49855072,  39.9826087 ],\n",
      "       [106.48115942,  43.50144928,  74.0173913 ]]), 'Саморазвитие руководителя': array([[94.79768786, 38.7283237 , 66.47398844],\n",
      "       [47.39884393, 19.36416185, 33.23699422],\n",
      "       [21.80346821,  8.90751445, 15.28901734]]), 'Проявляет заботу о Вашем развитии': array([[31.55232558, 13.0494186 , 22.39825581],\n",
      "       [50.86046512, 21.03488372, 36.10465116],\n",
      "       [79.5872093 , 32.91569767, 56.49709302]]), 'Повышает на Вас голос': array([[ 41.35652174,  16.89565217,  28.74782609],\n",
      "       [122.64347826,  50.10434783,  85.25217391]])}\n"
     ]
    }
   ],
   "source": [
    "tablesDictExpectedFr = {}\n",
    "for key, table in tablesDict.items():\n",
    "    tablesDictExpectedFr[key] = ss.contingency.expected_freq(table)\n",
    "print(tablesDictExpectedFr)\n"
   ]
  },
  {
   "cell_type": "code",
   "execution_count": 5,
   "metadata": {},
   "outputs": [],
   "source": [
    "# Function for check tables with Expected Frequencies for values less 5\n",
    "def countLess5(mat):\n",
    "    if (mat < 5).sum().sum() > 0:\n",
    "        return (mat < 5).sum().sum()\n",
    "    else:\n",
    "        return 0\n"
   ]
  },
  {
   "cell_type": "code",
   "execution_count": 6,
   "metadata": {},
   "outputs": [
    {
     "name": "stdout",
     "output_type": "stream",
     "text": [
      "\u001b[31m\n",
      "Attention!\n",
      "There are items less 5 in:\u001b[0m\n",
      "\t Профессиональные качества :  3\n",
      "\t Советуется с Вами :  0\n",
      "\t Саморазвитие руководителя :  0\n",
      "\t Проявляет заботу о Вашем развитии :  0\n",
      "\t Повышает на Вас голос :  0\n",
      "\t Наличие четких целей, KPI :  0\n",
      "\t Критикует в присутствии других :  0\n",
      "\t Знает о карьерных планах :  0\n",
      "\t Делегирует полномочия :  0\n",
      "\t Дает обратную связь :  0\n",
      "\t Благодарит за достижения :  0\n"
     ]
    }
   ],
   "source": [
    "# Check if there are values less than 5\n",
    "dictLess5 = {}\n",
    "for k, v in tablesDictExpectedFr.items():\n",
    "    dictLess5[k] = countLess5(v)\n",
    "\n",
    "# Import termcolor for color printing in terminal\n",
    "from termcolor import colored \n",
    "\n",
    "# print dictionary with values and make attention on values less 5\n",
    "for k, v in sorted(dictLess5.items(), key = lambda kv: (kv[1], kv[0]), reverse=True):\n",
    "    if v > 0:\n",
    "        print(colored('''\\nAttention!\n",
    "There are items less 5 in:''', 'red'))\n",
    "        print('\\t', k, ': ', v)\n",
    "    else:\n",
    "        print('\\t', k, ': ', v)\n"
   ]
  },
  {
   "cell_type": "code",
   "execution_count": 7,
   "metadata": {},
   "outputs": [
    {
     "name": "stdout",
     "output_type": "stream",
     "text": [
      "\t Профессиональные качества :  0.2\n",
      "\t Советуется с Вами :  0.0\n",
      "\t Наличие четких целей, KPI :  0.0\n",
      "\t Делегирует полномочия :  0.0\n",
      "\t Дает обратную связь :  0.0\n",
      "\t Критикует в присутствии других :  0.0\n",
      "\t Благодарит за достижения :  0.0\n",
      "\t Знает о карьерных планах :  0.0\n",
      "\t Саморазвитие руководителя :  0.0\n",
      "\t Проявляет заботу о Вашем развитии :  0.0\n",
      "\t Повышает на Вас голос :  0.0\n"
     ]
    }
   ],
   "source": [
    "# Check does it number less 20%\n",
    "tableDim = lambda x: x.shape[0] * x.shape[1] \n",
    "\n",
    "for k, v in dictLess5.items():\n",
    "    check20 = v / tableDim(tablesDict[k])\n",
    "    print('\\t', k, ': ', check20)\n"
   ]
  },
  {
   "cell_type": "code",
   "execution_count": 8,
   "metadata": {},
   "outputs": [
    {
     "name": "stdout",
     "output_type": "stream",
     "text": [
      "Готов рекомендовать                                 Да  Не знаю  Нет\n",
      "Профессиональные качества                                           \n",
      "Не знаю                                              0        0    2\n",
      "Он имеет высокую профессиональную подготовку        78       26   41\n",
      "Он имеет низкую профессиональную подготовку         20       16   31\n",
      "Он практически не обладает профессиональными зн...  22       11   34\n",
      "Он, безусловно, является экспертом в моей профе...  44       14    7\n"
     ]
    }
   ],
   "source": [
    "print(tablesDict['Профессиональные качества'])\n"
   ]
  },
  {
   "cell_type": "code",
   "execution_count": 9,
   "metadata": {},
   "outputs": [],
   "source": [
    "# We replace zeros with NaN by numpy module np.nan\n",
    "df.loc[df['Профессиональные качества'] == 'Не знаю', ['Профессиональные качества']] = np.nan\n"
   ]
  },
  {
   "cell_type": "code",
   "execution_count": 10,
   "metadata": {},
   "outputs": [],
   "source": [
    "# We recalculate the cross tables\n",
    "tablesList = []\n",
    "tablesDict = {}\n",
    "for col in cols[:-1]:\n",
    "    table = pd.crosstab(df[col],df['Готов рекомендовать'])\n",
    "    tablesList.append(table)\n",
    "    tablesDict[col] = table\n",
    "    "
   ]
  },
  {
   "cell_type": "code",
   "execution_count": 11,
   "metadata": {},
   "outputs": [
    {
     "name": "stdout",
     "output_type": "stream",
     "text": [
      "Готов рекомендовать                                 Да  Не знаю  Нет\n",
      "Профессиональные качества                                           \n",
      "Он имеет высокую профессиональную подготовку        78       26   41\n",
      "Он имеет низкую профессиональную подготовку         20       16   31\n",
      "Он практически не обладает профессиональными зн...  22       11   34\n",
      "Он, безусловно, является экспертом в моей профе...  44       14    7\n"
     ]
    }
   ],
   "source": [
    "# Check table Профессиональные качества\n",
    "print(tablesDict['Профессиональные качества'])\n"
   ]
  },
  {
   "cell_type": "code",
   "execution_count": 12,
   "metadata": {},
   "outputs": [
    {
     "name": "stdout",
     "output_type": "stream",
     "text": [
      "p-values\n",
      "\u001b[31mПовышает на Вас голос: 0.090679\u001b[0m\n",
      "\u001b[31mДелегирует полномочия: 0.015633\u001b[0m\n",
      "Критикует в присутствии других : 0.000483\n",
      "Наличие четких целей, KPI : 0.000225\n",
      "Знает о карьерных планах : 0.000163\n",
      "Советуется с Вами : 0.000025\n",
      "Профессиональные качества : 0.000002\n",
      "Дает обратную связь : 0.000000\n",
      "Саморазвитие руководителя : 0.000000\n",
      "Проявляет заботу о Вашем развитии : 0.000000\n",
      "Благодарит за достижения : 0.000000\n"
     ]
    }
   ],
   "source": [
    "# Count the chi-square for crosstabs.  \n",
    "chi2Dict = {}\n",
    "for k, v in tablesDict.items():\n",
    "    chi2, p, dof, expected = ss.chi2_contingency(v)\n",
    "    chi2Dict[k] = p\n",
    "\n",
    "# Display the sorted p-value (descending).  \n",
    "print('p-values')\n",
    "outputText = ': {:f}'\n",
    "\n",
    "for k, v in sorted(chi2Dict.items(), key=lambda kv: (kv[1], kv[0]), reverse=True):\n",
    "    if v >= 0.01:\n",
    "        out = str(k) + outputText.format(v)\n",
    "        print(colored(out, 'red'))\n",
    "    else:\n",
    "        print(k, outputText.format(v))\n"
   ]
  },
  {
   "cell_type": "code",
   "execution_count": 13,
   "metadata": {},
   "outputs": [],
   "source": [
    "# Delete this two variables (two factors) from DataFrame.  \n",
    "df.drop(columns='Повышает на Вас голос', inplace=True)\n",
    "df.drop(columns='Делегирует полномочия', inplace=True)\n",
    "\n",
    "# Remake list from column's names.  \n",
    "cols = df.columns.tolist()\n"
   ]
  },
  {
   "cell_type": "code",
   "execution_count": 14,
   "metadata": {},
   "outputs": [],
   "source": [
    "# We recalculate the cross tables\n",
    "tablesList = []\n",
    "tablesDict = {}\n",
    "for col in cols[:-1]:\n",
    "    table = pd.crosstab(df[col],df['Готов рекомендовать'])\n",
    "    tablesList.append(table)\n",
    "    tablesDict[col] = table"
   ]
  },
  {
   "cell_type": "code",
   "execution_count": 15,
   "metadata": {},
   "outputs": [
    {
     "name": "stdout",
     "output_type": "stream",
     "text": [
      "{'Профессиональные качества': array([[69.12790698, 28.24127907, 47.63081395],\n",
      "       [31.94186047, 13.0494186 , 22.00872093],\n",
      "       [31.94186047, 13.0494186 , 22.00872093],\n",
      "       [30.98837209, 12.65988372, 21.35174419]]), 'Советуется с Вами': array([[95.2716763 , 38.92196532, 66.80635838],\n",
      "       [51.66473988, 21.10693642, 36.2283237 ],\n",
      "       [17.06358382,  6.97109827, 11.96531792]]), 'Наличие четких целей, KPI': array([[52.61271676, 21.49421965, 36.89306358],\n",
      "       [41.71098266, 17.04046243, 29.24855491],\n",
      "       [69.67630058, 28.46531792, 48.8583815 ]]), 'Дает обратную связь': array([[88.35072464, 36.31594203, 62.33333333],\n",
      "       [74.64927536, 30.68405797, 52.66666667]]), 'Критикует в присутствии других': array([[51.81449275, 21.16811594, 36.0173913 ],\n",
      "       [79.86086957, 32.62608696, 55.51304348],\n",
      "       [32.32463768, 13.2057971 , 22.46956522]]), 'Благодарит за достижения': array([[43.73333333, 17.6       , 30.66666667],\n",
      "       [74.15652174, 29.84347826, 52.        ],\n",
      "       [46.11014493, 18.55652174, 32.33333333]]), 'Знает о карьерных планах': array([[ 57.51884058,  23.49855072,  39.9826087 ],\n",
      "       [106.48115942,  43.50144928,  74.0173913 ]]), 'Саморазвитие руководителя': array([[94.79768786, 38.7283237 , 66.47398844],\n",
      "       [47.39884393, 19.36416185, 33.23699422],\n",
      "       [21.80346821,  8.90751445, 15.28901734]]), 'Проявляет заботу о Вашем развитии': array([[31.55232558, 13.0494186 , 22.39825581],\n",
      "       [50.86046512, 21.03488372, 36.10465116],\n",
      "       [79.5872093 , 32.91569767, 56.49709302]])}\n"
     ]
    }
   ],
   "source": [
    "# We recalculate the tables of expected frequencies\n",
    "tablesDictExpectedFr = {}\n",
    "for key, table in tablesDict.items():\n",
    "    tablesDictExpectedFr[key] = ss.contingency.expected_freq(table)\n",
    "print(tablesDictExpectedFr)"
   ]
  },
  {
   "cell_type": "code",
   "execution_count": 16,
   "metadata": {},
   "outputs": [
    {
     "name": "stdout",
     "output_type": "stream",
     "text": [
      "p-values\n",
      "Критикует в присутствии других : 0.000483\n",
      "Наличие четких целей, KPI : 0.000225\n",
      "Знает о карьерных планах : 0.000163\n",
      "Советуется с Вами : 0.000025\n",
      "Профессиональные качества : 0.000002\n",
      "Дает обратную связь : 0.000000\n",
      "Саморазвитие руководителя : 0.000000\n",
      "Проявляет заботу о Вашем развитии : 0.000000\n",
      "Благодарит за достижения : 0.000000\n"
     ]
    }
   ],
   "source": [
    "# Count the chi-square for crosstabs.  \n",
    "chi2Dict = {}\n",
    "for k, v in tablesDict.items():\n",
    "    chi2, p, dof, expected = ss.chi2_contingency(v)\n",
    "    chi2Dict[k] = p\n",
    "\n",
    "# Display the sorted p-value (descending).  \n",
    "print('p-values')\n",
    "outputText = ': {:f}'\n",
    "\n",
    "for k, v in sorted(chi2Dict.items(), key=lambda kv: (kv[1], kv[0]), reverse=True):\n",
    "    if v >= 0.01:\n",
    "        out = str(k) + outputText.format(v)\n",
    "        print(colored(out, 'red'))\n",
    "    else:\n",
    "        print(k, outputText.format(v))\n"
   ]
  },
  {
   "cell_type": "markdown",
   "metadata": {},
   "source": [
    "## Cramer coefficient calculation function\n"
   ]
  },
  {
   "cell_type": "code",
   "execution_count": 25,
   "metadata": {},
   "outputs": [],
   "source": [
    "def cramers_corrected_stat(confusion_matrix, correction: bool) -> float:\n",
    "    \"\"\"Calculate the Cramer's V corrected stat for two variables.\n",
    "\n",
    "    Args:\n",
    "        confusion_matrix: Crosstab between two variables.\n",
    "        correction: Should the correction be applied?\n",
    "\n",
    "    Returns:\n",
    "        The Cramer's V corrected stat for the two variables.\n",
    "    \"\"\"\n",
    "    chi2 = ss.chi2_contingency(confusion_matrix, correction=correction)[0]\n",
    "    n = confusion_matrix.sum().sum()\n",
    "    phi2 = chi2 / n\n",
    "    r, k = confusion_matrix.shape\n",
    "    phi2corr = max(0.0, phi2 - ((k - 1.0) * (r - 1.0)) / (n - 1.0))\n",
    "    rcorr = r - ((r - 1.0) ** 2.0) / (n - 1.0)\n",
    "    kcorr = k - ((k - 1.0) ** 2.0) / (n - 1.0)\n",
    "    return np.sqrt(phi2corr / min((kcorr - 1.0), (rcorr - 1.0)))"
   ]
  },
  {
   "cell_type": "code",
   "execution_count": 29,
   "metadata": {},
   "outputs": [
    {
     "name": "stdout",
     "output_type": "stream",
     "text": [
      "Дает обратную связь: 0.30\n",
      "Благодарит за достижения: 0.29\n",
      "Проявляет заботу о Вашем развитии: 0.28\n",
      "Саморазвитие руководителя: 0.24\n",
      "Знает о карьерных планах: 0.21\n",
      "Профессиональные качества: 0.21\n",
      "Советуется с Вами: 0.18\n",
      "Наличие четких целей, KPI: 0.16\n",
      "Критикует в присутствии других: 0.15\n"
     ]
    }
   ],
   "source": [
    "# Calculate V Cramers\n",
    "cramersData = {}\n",
    "for k, v in tablesDict.items():\n",
    "    cramersData[k] = cramers_corrected_stat(v, True)\n",
    "\n",
    "resultText = '{}: {:0.2f}'\n",
    "for k, v in sorted(cramersData.items(), key=lambda kv: (kv[1], kv[0]), reverse=True):\n",
    "    print(resultText.format(k, v))"
   ]
  },
  {
   "cell_type": "code",
   "execution_count": 30,
   "metadata": {},
   "outputs": [
    {
     "data": {
      "text/plain": [
       "Критикует в присутствии других       0.153027\n",
       "Наличие четких целей, KPI            0.160563\n",
       "Советуется с Вами                    0.180776\n",
       "Профессиональные качества            0.210225\n",
       "Знает о карьерных планах             0.211851\n",
       "Саморазвитие руководителя            0.239321\n",
       "Проявляет заботу о Вашем развитии    0.284094\n",
       "Благодарит за достижения             0.289933\n",
       "Дает обратную связь                  0.299250\n",
       "Name: (Факторы, Сила связи), dtype: float64"
      ]
     },
     "execution_count": 30,
     "metadata": {},
     "output_type": "execute_result"
    }
   ],
   "source": [
    "# Create Series from Dictionary\n",
    "plotData = pd.Series(cramersData, name=('Факторы', 'Сила связи')).sort_values()\n",
    "plotData\n"
   ]
  },
  {
   "cell_type": "markdown",
   "metadata": {},
   "source": [
    "## Build a chart."
   ]
  },
  {
   "cell_type": "code",
   "execution_count": 21,
   "metadata": {},
   "outputs": [
    {
     "data": {
      "text/plain": [
       "Text(0.5, 1.0, 'Важность факторов')"
      ]
     },
     "execution_count": 21,
     "metadata": {},
     "output_type": "execute_result"
    },
    {
     "data": {
      "image/png": "[encoded data removed]",
      "text/plain": [
       "<Figure size 576x720 with 1 Axes>"
      ]
     },
     "metadata": {
      "needs_background": "light"
     },
     "output_type": "display_data"
    }
   ],
   "source": [
    "ax = plotData.plot(kind='barh',\n",
    "        title=\"Важность факторов\",\n",
    "        fontsize=15,\n",
    "        legend=False,\n",
    "        figsize=(8, 10),\n",
    "        color='#FF7C55',\n",
    "        zorder=2,\n",
    "        width=0.65)\n",
    "\n",
    "# Switch off ticks\n",
    "ax.tick_params(axis=\"both\", which=\"both\", bottom=\"off\", top=\"off\", labelbottom=\"on\", left=\"off\", right=\"off\", labelleft=\"on\")\n",
    "\n",
    "# Make annotations on chart\n",
    "i = 0\n",
    "for k, v in plotData.items():\n",
    "    ax.annotate('{:.2f}'.format(v), xy=(v-0.035, i-0.1), fontsize=16)\n",
    "    i +=1\n",
    "\n",
    "# Draw vertical axis lines\n",
    "vals = ax.get_xticks()\n",
    "for tick in vals:\n",
    "    ax.axvline(x=tick, linestyle='dashed', alpha=0.4, color='#eeeeee', zorder=1)\n",
    "\n",
    "# Set x-axis label\n",
    "ax.set_xlabel(\"Важность факторов\", labelpad=10, weight='bold', size=16)\n",
    "\n",
    "# Set y-axis label\n",
    "ax.set_ylabel(\"Факторы\", labelpad=10, weight='bold', size=16)\n",
    "\n",
    "# Set title label\n",
    "ax.set_title(label='Важность факторов', fontsize=18, fontweight='bold', horizontalalignment='right')\n"
   ]
  },
  {
   "cell_type": "code",
   "execution_count": null,
   "metadata": {},
   "outputs": [],
   "source": []
  }
 ],
 "metadata": {
  "kernelspec": {
   "display_name": "Python 3",
   "language": "python",
   "name": "python3"
  },
  "language_info": {
   "codemirror_mode": {
    "name": "ipython",
    "version": 3
   },
   "file_extension": ".py",
   "mimetype": "text/x-python",
   "name": "python",
   "nbconvert_exporter": "python",
   "pygments_lexer": "ipython3",
   "version": "3.7.4"
  }
 },
 "nbformat": 4,
 "nbformat_minor": 4
}
